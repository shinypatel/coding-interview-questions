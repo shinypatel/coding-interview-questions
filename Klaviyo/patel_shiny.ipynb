{
 "cells": [
  {
   "cell_type": "code",
   "execution_count": 1,
   "metadata": {},
   "outputs": [],
   "source": [
    "''' Name: Shiny Patel\n",
    "    Email: patelshiny44@gmail.com '''\n",
    "\n",
    "import pandas as pd\n",
    "import matplotlib.pyplot as plt\n",
    "import numpy as np"
   ]
  },
  {
   "cell_type": "code",
   "execution_count": 2,
   "metadata": {},
   "outputs": [
    {
     "name": "stdout",
     "output_type": "stream",
     "text": [
      "      customer_id  gender                 date  value  predicted_gender\n0            1000       0  2017-01-01 00:11:31  198.5                 1\n1            1001       0  2017-01-01 00:29:56  338.0                 1\n2            1002       1  2017-01-01 01:30:31  733.0                 1\n1742         1002       1  2017-02-19 21:35:31  176.0                 1\n928          1002       1  2017-01-23 04:33:38  148.6                 1\n3            1003       1  2017-01-01 01:34:22  772.0                 1\n676          1003       1  2017-01-20 05:56:10  425.5                 1\n4292         1003       1  2017-04-25 09:54:54    0.0                 1\n4323         1003       1  2017-04-26 02:37:20  704.0                 1\n4            1004       0  2017-01-01 03:11:54  508.0                 1\n"
     ]
    }
   ],
   "source": [
    "# A)\n",
    "df = pd.read_csv('screening_exercise_orders_v201810.csv')\n",
    "print(df.sort_values('customer_id')[:10])"
   ]
  },
  {
   "cell_type": "code",
   "execution_count": 3,
   "metadata": {},
   "outputs": [
    {
     "data": {
      "image/png": "[encoded data removed]",
      "text/plain": [
       "<Figure size 432x288 with 1 Axes>"
      ]
     },
     "metadata": {},
     "output_type": "display_data"
    }
   ],
   "source": [
    "# B)\n",
    "df['date'] = pd.to_datetime(df['date'])\n",
    "# calendar_week starts on Monday\n",
    "df['calendar_week'] = df['date'].apply(lambda x: x.week)\n",
    "# week_num increments when a new calendar_week starts\n",
    "df['week_num'] = (df['calendar_week'].diff() != 0).cumsum()\n",
    "\n",
    "s = df.groupby(df['week_num'], sort=False).size()\n",
    "plt.scatter(s.index, s)\n",
    "plt.ylabel('order counts')\n",
    "plt.xlabel('week number')\n",
    "plt.show()\n"
   ]
  },
  {
   "cell_type": "code",
   "execution_count": 4,
   "metadata": {},
   "outputs": [
    {
     "name": "stdout",
     "output_type": "stream",
     "text": [
      "gender\n0    363.890006\n1    350.708361\nName: value, dtype: float64\n"
     ]
    }
   ],
   "source": [
    "# C)\n",
    "print(df.groupby('gender').mean()['value'])\n",
    "# The difference is not statistically significant."
   ]
  },
  {
   "cell_type": "code",
   "execution_count": 5,
   "metadata": {
    "collapsed": false
   },
   "outputs": [
    {
     "name": "stdout",
     "output_type": "stream",
     "text": [
      "Number of samples = 13471\n\nConfusion matrix:\n [[3349 3410]\n [1463 5249]]\n\nQuality of predictions:\nAccuracy = 0.64\nPrecision = 0.61\nRecall = 0.78\n"
     ]
    }
   ],
   "source": [
    "# D)\n",
    "def count(a, p):\n",
    "    return len(df[\n",
    "            (df['gender'] == a) & (df['predicted_gender'] == p)]\n",
    "               .index)\n",
    "\n",
    "\n",
    "n = len(df.index)\n",
    "print('Number of samples = %d' % n)\n",
    "\n",
    "tn = count(0, 0)\n",
    "fp = count(0, 1)\n",
    "fn = count(1, 0)\n",
    "tp = count(1, 1)\n",
    "confusion_mat = np.array([[tn, fp], [fn, tp]])\n",
    "print('\\nConfusion matrix:\\n', confusion_mat)\n",
    "\n",
    "acc = (tn + tp) / n\n",
    "precision = tp / (tp + fp)\n",
    "recall = tp / (tp + fn)\n",
    "print('\\nQuality of predictions:'\n",
    "      '\\nAccuracy = %.2f'\n",
    "      '\\nPrecision = %.2f'\n",
    "      '\\nRecall = %.2f' % (acc, precision, recall))"
   ]
  },
  {
   "cell_type": "code",
   "execution_count": 6,
   "metadata": {},
   "outputs": [
    {
     "data": {
      "text/plain": [
       "\" Numpy for manipulating large matrices since it's faster and \\n    eliminates repeatedly writing loops \\n    ex. selecting all elements > 1 in a 1D int numpy array can \\n        be done by simply writing a[a>1] \""
      ]
     },
     "execution_count": 6,
     "metadata": {},
     "output_type": "execute_result"
    }
   ],
   "source": [
    "# E)\n",
    "''' Numpy for manipulating large matrices since it's faster and \n",
    "    eliminates repeatedly writing loops \n",
    "    ex. selecting all elements > 1 in a 1D int numpy array can \n",
    "        be done by simply writing a[a>1] '''"
   ]
  },
  {
   "cell_type": "code",
   "execution_count": null,
   "metadata": {},
   "outputs": [],
   "source": []
  }
 ],
 "metadata": {
  "kernelspec": {
   "display_name": "Python 2",
   "language": "python",
   "name": "python2"
  },
  "language_info": {
   "codemirror_mode": {
    "name": "ipython",
    "version": 2
   },
   "file_extension": ".py",
   "mimetype": "text/x-python",
   "name": "python",
   "nbconvert_exporter": "python",
   "pygments_lexer": "ipython2",
   "version": "2.7.6"
  }
 },
 "nbformat": 4,
 "nbformat_minor": 0
}
